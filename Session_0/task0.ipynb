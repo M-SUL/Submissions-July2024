{
 "cells": [
  {
   "cell_type": "markdown",
   "metadata": {},
   "source": [
    "### Q0: Python Knowledge Quiz"
   ]
  },
  {
   "cell_type": "markdown",
   "metadata": {},
   "source": [
    "**Q1: What is the maximum value that can be stored in an  int  in Python?**\n",
    "<div>\n",
    "    <input type=\"radio\" id=\"q1a\" name=\"q1\" value=\"2^16\">\n",
    "    <label for=\"q1a\">a) 2^16</label><br>\n",
    "    <input type=\"radio\" id=\"q1b\" name=\"q1\" value=\"2^32\">\n",
    "    <label for=\"q1b\">b)  2^32 </label><br>\n",
    "    <input type=\"radio\" id=\"q1c\" name=\"q1\" value=\"2^64\">\n",
    "    <label for=\"q1c\">c)  2^64 </label><br>\n",
    "    <input type=\"radio\" id=\"q1d\" name=\"q1\" value=\"no limit\">\n",
    "    <label for=\"q1d\">d) There is no maximum limit</label>\n",
    "</div>"
   ]
  },
  {
   "cell_type": "markdown",
   "metadata": {
    "tags": [
     "parameters"
    ]
   },
   "source": [
    "**Q2: Which data type is used to represent a sequence of characters in Python?**\n",
    "<div>\n",
    "    <input type=\"radio\" id=\"q2a\" name=\"q2\" value=\"int\">\n",
    "    <label for=\"q2a\">a)  int </label><br>\n",
    "    <input type=\"radio\" id=\"q2b\" name=\"q2\" value=\"float\">\n",
    "    <label for=\"q2b\">b)  float </label><br>\n",
    "    <input type=\"radio\" id=\"q2c\" name=\"q2\" value=\"str\">\n",
    "    <label for=\"q2c\">c)  str </label><br>\n",
    "    <input type=\"radio\" id=\"q2d\" name=\"q2\" value=\"bool\">\n",
    "    <label for=\"q2d\">d)  bool </label>\n",
    "</div>"
   ]
  },
  {
   "cell_type": "markdown",
   "metadata": {},
   "source": [
    "**Q3: What is the result of  5 + 2.0  in Python?**\n",
    "<div>\n",
    "    <input type=\"radio\" id=\"q3a\" name=\"q3\" value=\"7\">\n",
    "    <label for=\"q3a\">a)  7 </label><br>\n",
    "    <input type=\"radio\" id=\"q3b\" name=\"q3\" value=\"7.0\">\n",
    "    <label for=\"q3b\">b)  7.0 </label><br>\n",
    "    <input type=\"radio\" id=\"q3c\" name=\"q3\" value=\"5.0\">\n",
    "    <label for=\"q3c\">c)  5.0 </label><br>\n",
    "    <input type=\"radio\" id=\"q3d\" name=\"q3\" value=\"TypeError\">\n",
    "    <label for=\"q3d\">d)  TypeError </label>\n",
    "</div>"
   ]
  },
  {
   "cell_type": "markdown",
   "metadata": {},
   "source": [
    "**Q4: Which of the following is a mutable data type in Python?**\n",
    "<div>\n",
    "    <input type=\"radio\" id=\"q4a\" name=\"q4\" value=\"int\">\n",
    "    <label for=\"q4a\">a)  int </label><br>\n",
    "    <input type=\"radio\" id=\"q4b\" name=\"q4\" value=\"float\">\n",
    "    <label for=\"q4b\">b)  float </label><br>\n",
    "    <input type=\"radio\" id=\"q4c\" name=\"q4\" value=\"tuple\">\n",
    "    <label for=\"q4c\">c)  tuple </label><br>\n",
    "    <input type=\"radio\" id=\"q4d\" name=\"q4\" value=\"list\">\n",
    "    <label for=\"q4d\">d)  list </label>\n",
    "</div>"
   ]
  },
  {
   "cell_type": "markdown",
   "metadata": {},
   "source": [
    "**Q5: What is the result of the expression  True and False ?**\n",
    "<div>\n",
    "    <input type=\"radio\" id=\"q5a\" name=\"q5\" value=\"True\">\n",
    "    <label for=\"q5a\">a)  True </label><br>\n",
    "    <input type=\"radio\" id=\"q5b\" name=\"q5\" value=\"False\">\n",
    "    <label for=\"q5b\">b)  False </label><br>\n",
    "    <input type=\"radio\" id=\"q5c\" name=\"q5\" value=\"None\">\n",
    "    <label for=\"q5c\">c)  None </label><br>\n",
    "    <input type=\"radio\" id=\"q5d\" name=\"q5\" value=\"TypeError\">\n",
    "    <label for=\"q5d\">d)  TypeError </label>\n",
    "</div>"
   ]
  },
  {
   "cell_type": "markdown",
   "metadata": {},
   "source": [
    "**Q6: Which of the following is a valid way to comment out a single line of code in Python?**\n",
    "<div>\n",
    "    <input type=\"radio\" id=\"q6a\" name=\"q6\" value=\"''' This is a comment '''\">\n",
    "    <label for=\"q6a\">a)  ''' This is a comment ''' </label><br>\n",
    "    <input type=\"radio\" id=\"q6b\" name=\"q6\" value=\"# This is a comment\">\n",
    "    <label for=\"q6b\">b)  # This is a comment </label><br>\n",
    "    <input type=\"radio\" id=\"q6c\" name=\"q6\" value=\"// This is a comment\">\n",
    "    <label for=\"q6c\">c)  // This is a comment </label><br>\n",
    "    <input type=\"radio\" id=\"q6d\" name=\"q6\" value=\"-- This is a comment\">\n",
    "    <label for=\"q6d\">d)  -- This is a comment </label>\n",
    "</div>"
   ]
  },
  {
   "cell_type": "markdown",
   "metadata": {},
   "source": [
    "**Q7: What is the result of  10 / 3  in Python?**\n",
    "<div>\n",
    "    <input type=\"radio\" id=\"q7a\" name=\"q7\" value=\"3.3333333333333335\">\n",
    "    <label for=\"q7a\">a)  3.3333333333333335 </label><br>\n",
    "    <input type=\"radio\" id=\"q7b\" name=\"q7\" value=\"3.333333333333333\">\n",
    "    <label for=\"q7b\">b)  3.333333333333333 </label><br>\n",
    "    <input type=\"radio\" id=\"q7c\" name=\"q7\" value=\"3.0\">\n",
    "    <label for=\"q7c\">c)  3.0 </label><br>\n",
    "    <input type=\"radio\" id=\"q7d\" name=\"q7\" value=\"3\">\n",
    "    <label for=\"q7d\">d)  3 </label>\n",
    "</div>"
   ]
  },
  {
   "cell_type": "markdown",
   "metadata": {},
   "source": [
    "**Q8: If X is less than Y, then X is not equal to Y. If X is not equal to Y, then Y minus X is not equal to zero. So, if X is less than Y, then Y minus X is not equal to zero. ?**\n",
    "<div>\n",
    "    <input type=\"radio\" id=\"q7a\" name=\"q7\" value=\"3.3333333333333335\">\n",
    "    <label for=\"q7a\">a)  True </label><br>\n",
    "    <input type=\"radio\" id=\"q7b\" name=\"q7\" value=\"3.333333333333333\">\n",
    "    <label for=\"q7b\">b)  False </label><br>\n",
    "</div>"
   ]
  },
  {
   "cell_type": "markdown",
   "metadata": {},
   "source": [
    "***\"Binary Search\"*** algorithm considered to be a great choice for many ***sorting problems*** especially when compared to ***\"Simple Search\"*** algorithm.\n",
    "\n",
    "Disscuse both algorithms and how \"Binary Search\" algorithm is more efficent for CPU execution time.\n",
    "\n",
    "**Write an essay for no less than 100 words**  "
   ]
  },
  {
   "cell_type": "markdown",
   "metadata": {},
   "source": [
    "write here.."
   ]
  }
 ],
 "metadata": {
  "kernelspec": {
   "display_name": "base",
   "language": "python",
   "name": "python3"
  },
  "language_info": {
   "codemirror_mode": {
    "name": "ipython",
    "version": 3
   },
   "file_extension": ".py",
   "mimetype": "text/x-python",
   "name": "python",
   "nbconvert_exporter": "python",
   "pygments_lexer": "ipython3",
   "version": "3.11.7"
  }
 },
 "nbformat": 4,
 "nbformat_minor": 2
}
