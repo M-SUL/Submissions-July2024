{
 "cells": [
  {
   "cell_type": "markdown",
   "metadata": {},
   "source": [
    "**A. Beautiful Matrix**\n",
    "\n",
    "You've got a 5 × 5 matrix, consisting of 24 zeroes and a single number one. Let's index the matrix rows by numbers from 1 to 5 from top to bottom, let's index the matrix columns by numbers from 1 to 5 from left to right. In one move, you are allowed to apply one of the two following transformations to the matrix:\n",
    "\n",
    "1. Swap two neighboring matrix rows, that is, rows with indexes i and i + 1 for some integer i (1 ≤ i < 5).\n",
    "\n",
    "2. Swap two neighboring matrix columns, that is, columns with indexes j and j + 1 for some integer j (1 ≤ j < 5).\n",
    "\n",
    "You think that a matrix looks beautiful, if the single number one of the matrix is located in its middle (in the cell that is on the intersection of the third row and the third column). Count the minimum number of moves needed to make the matrix beautiful.\n",
    "\n",
    "Input\n",
    "The input consists of five lines, each line contains five integers: the j-th integer in the i-th line of the input represents the element of the matrix that is located on the intersection of the i-th row and the j-th column. It is guaranteed that the matrix consists of 24 zeroes and a single number one.\n",
    "\n",
    "Output\n",
    "Print a single integer — the minimum number of moves needed to make the matrix beautiful.\n",
    "\n",
    "Examples:\n",
    "***\n",
    "input\n",
    "\n",
    "0 0 0 0 0\n",
    "\n",
    "0 0 0 0 1\n",
    "\n",
    "0 0 0 0 0\n",
    "\n",
    "0 0 0 0 0\n",
    "\n",
    "0 0 0 0 0\n",
    "\n",
    "output:\n",
    "\n",
    "3\n",
    "***\n",
    "input\n",
    "\n",
    "0 0 0 0 0\n",
    "\n",
    "0 0 0 0 0\n",
    "\n",
    "0 1 0 0 0\n",
    "\n",
    "0 0 0 0 0\n",
    "\n",
    "0 0 0 0 0\n",
    "\n",
    "output:\n",
    "\n",
    "1\n",
    "***"
   ]
  },
  {
   "cell_type": "code",
   "execution_count": null,
   "metadata": {},
   "outputs": [],
   "source": [
    "#Write your code here"
   ]
  }
 ],
 "metadata": {
  "language_info": {
   "name": "python"
  }
 },
 "nbformat": 4,
 "nbformat_minor": 2
}
