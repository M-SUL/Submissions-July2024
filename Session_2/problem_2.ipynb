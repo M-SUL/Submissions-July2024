{
 "cells": [
  {
   "cell_type": "markdown",
   "metadata": {},
   "source": [
    "**A. Bear and Big Brother**\n",
    "\n",
    "Bear Limak wants to become the largest of bears, or at least to become larger than his brother Bob.\n",
    "\n",
    "Right now, Limak and Bob weigh a and b respectively. It's guaranteed that Limak's weight is smaller than or equal to his brother's weight.\n",
    "\n",
    "Limak eats a lot and his weight is tripled after every year, while Bob's weight is doubled after every year.\n",
    "\n",
    "After how many full years will Limak become strictly larger (strictly heavier) than Bob?\n",
    "\n",
    "Input\n",
    "The only line of the input contains two integers a and b (1 ≤ a ≤ b ≤ 10) — the weight of Limak and the weight of Bob respectively.\n",
    "\n",
    "Output\n",
    "Print one integer, denoting the integer number of years after which Limak will become strictly larger than Bob.\n",
    "\n",
    "\n",
    "Examples:\n",
    "***\n",
    "input\n",
    "4 7\n",
    "\n",
    "output:\n",
    "2\n",
    "***\n",
    "input\n",
    "4 9\n",
    "\n",
    "output:\n",
    "3\n",
    "***\n",
    "input\n",
    "1 1\n",
    "\n",
    "output:\n",
    "1\n",
    "***\n",
    "\n",
    "Note\n",
    "\n",
    "In the first sample, Limak weighs 4 and Bob weighs 7 initially. After one year their weights are 4·3 = 12 and 7·2 = 14 respectively (one weight is tripled while the other one is doubled). Limak isn't larger than Bob yet. After the second year weights are 36 and 28, so the first weight is greater than the second one. Limak became larger than Bob after two years so you should print 2.\n",
    "\n",
    "In the second sample, Limak's and Bob's weights in next years are: 12 and 18, then 36 and 36, and finally 108 and 72 (after three years). The answer is 3. Remember that Limak wants to be larger than Bob and he won't be satisfied with equal weights.\n",
    "\n",
    "In the third sample, Limak becomes larger than Bob after the first year. Their weights will be 3 and 2 then."
   ]
  },
  {
   "cell_type": "code",
   "execution_count": null,
   "metadata": {},
   "outputs": [],
   "source": [
    "# Write Your Code Here"
   ]
  }
 ],
 "metadata": {
  "language_info": {
   "name": "python"
  }
 },
 "nbformat": 4,
 "nbformat_minor": 2
}
