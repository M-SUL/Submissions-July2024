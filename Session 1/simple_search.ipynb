{
 "cells": [
  {
   "cell_type": "code",
   "execution_count": 9,
   "metadata": {},
   "outputs": [
    {
     "name": "stdout",
     "output_type": "stream",
     "text": [
      "4\n"
     ]
    }
   ],
   "source": [
    "numbers = [10, 23, 45, 70, 11, 15]\n",
    "guess = int(input(\"Enter your guess\"))\n",
    "flag = False\n",
    "\n",
    "for index, element in enumerate(numbers):\n",
    "    if element == guess:\n",
    "        flag = True\n",
    "        print(index)\n",
    "\n",
    "if not flag:\n",
    "    print(\"No element was found\")"
   ]
  }
 ],
 "metadata": {
  "kernelspec": {
   "display_name": "base",
   "language": "python",
   "name": "python3"
  },
  "language_info": {
   "codemirror_mode": {
    "name": "ipython",
    "version": 3
   },
   "file_extension": ".py",
   "mimetype": "text/x-python",
   "name": "python",
   "nbconvert_exporter": "python",
   "pygments_lexer": "ipython3",
   "version": "3.11.7"
  }
 },
 "nbformat": 4,
 "nbformat_minor": 2
}
