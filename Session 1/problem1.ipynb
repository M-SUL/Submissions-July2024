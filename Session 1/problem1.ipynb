{
 "cells": [
  {
   "cell_type": "markdown",
   "metadata": {},
   "source": [
    "**A. Anton and Danik**\n",
    "\n",
    "Anton likes to play chess, and so does his friend Danik.\n",
    "\n",
    "Once they have played n games in a row. For each game it's known who was the winner — Anton or Danik. None of the games ended with a tie.\n",
    "\n",
    "Now Anton wonders, who won more games, he or Danik? Help him determine this.\n",
    "\n",
    "Input\n",
    "The first line of the input contains a single integer n (1 ≤ n ≤ 100 000) — the number of games played.\n",
    "\n",
    "The second line contains a string s, consisting of n uppercase English letters 'A' and 'D' — the outcome of each of the games. The i-th character of the string is equal to 'A' if the Anton won the i-th game and 'D' if Danik won the i-th game.\n",
    "\n",
    "Output\n",
    "If Anton won more games than Danik, print \"Anton\" (without quotes) in the only line of the output.\n",
    "\n",
    "If Danik won more games than Anton, print \"Danik\" (without quotes) in the only line of the output.\n",
    "\n",
    "If Anton and Danik won the same number of games, print \"Friendship\" (without quotes).\n",
    "\n",
    "\n",
    "Examples:\n",
    "***\n",
    "input\n",
    "\n",
    "6\n",
    "\n",
    "ADAAAA\n",
    "\n",
    "output:\n",
    "\n",
    "Anton\n",
    "***\n",
    "input\n",
    "\n",
    "7\n",
    "\n",
    "DDDAADA\n",
    "\n",
    "output:\n",
    "\n",
    "Danik\n",
    "***\n",
    "input\n",
    "\n",
    "6\n",
    "\n",
    "DADADA\n",
    "\n",
    "output:\n",
    "\n",
    "Friendship\n",
    "***"
   ]
  },
  {
   "cell_type": "code",
   "execution_count": null,
   "metadata": {},
   "outputs": [],
   "source": [
    "# Write Your Code Here"
   ]
  }
 ],
 "metadata": {
  "language_info": {
   "name": "python"
  }
 },
 "nbformat": 4,
 "nbformat_minor": 2
}
