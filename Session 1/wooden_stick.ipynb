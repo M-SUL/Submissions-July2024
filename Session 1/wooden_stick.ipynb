{
 "cells": [
  {
   "cell_type": "markdown",
   "metadata": {},
   "source": [
    "<div style=\"text-align: center;\">\n",
    "<hr style=\"margin: 0px 10;\">\n",
    "<b>تقطيع العصا الخشبية</b>\n",
    "<hr style=\"margin: 0px 10;\">\n",
    "</div>\n"
   ]
  },
  {
   "cell_type": "markdown",
   "metadata": {},
   "source": [
    "\n",
    " <div style=\"direction: rtl;\">\n",
    "لديك عصا خشبية طولها \"L\" وطلب منك تقطيعها \"K\" قطعة حيث أن كل قطعة يكون طولها أقل مايمكن، اكتب برنامجاً يطبع أطوال جميع هذه القطع\n",
    " <div style=\"text-align: center;\">\n",
    "  <img src=\"images\\image4.png\" style=\"transform: scale(0.5); margin: -55px -55px -80px -55px;\">\n",
    "</div>\n",
    " </div>"
   ]
  },
  {
   "cell_type": "markdown",
   "metadata": {},
   "source": [
    " <div style=\"direction: rtl;\">\n",
    "مثال: اذا كان الطول 8 وعدد القطع المطلوبة 3 فيجب أن يكون الخرج [3,3,2]\n",
    "\n",
    "[4,2,2] لايصلح\n",
    "[6,1,1] لايصلح"
   ]
  },
  {
   "cell_type": "markdown",
   "metadata": {},
   "source": []
  }
 ],
 "metadata": {
  "language_info": {
   "name": "python"
  }
 },
 "nbformat": 4,
 "nbformat_minor": 2
}
