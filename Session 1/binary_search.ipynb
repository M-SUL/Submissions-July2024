{
 "cells": [
  {
   "cell_type": "markdown",
   "metadata": {},
   "source": [
    "<div class=\"alert alert-block alert-warning\" style=\"text-align: center;\">\n",
    "<hr style=\"margin: 0px 10;\">\n",
    "<b>خوارزمية البحث الثنائي - Binary Search Algorithm</b>\n",
    "<hr style=\"margin: 0px 10;\">\n",
    "</div>\n"
   ]
  },
  {
   "cell_type": "markdown",
   "metadata": {},
   "source": [
    "\n",
    "<div class=\"alert alert-block alert-info\" style=\"direction: rtl;\">\n",
    " إنشاء مصفوفة تحتوي أعداد مرتبة وتسميتها <b>\"lst\"</b>\n",
    " <div style=\"text-align: center;\">\n",
    "  <img src=\"images\\image1.png\" style=\"transform: scale(0.5); margin: -55px -55px -80px -55px;\">\n",
    "</div>\n",
    "</div>\n",
    "\n"
   ]
  },
  {
   "cell_type": "code",
   "execution_count": 36,
   "metadata": {},
   "outputs": [],
   "source": [
    "lst = [1,2,3,4,5,6,7,8]"
   ]
  },
  {
   "cell_type": "markdown",
   "metadata": {},
   "source": [
    "<div class=\"alert alert-block alert-info\" style=\"direction: rtl;\">\n",
    "طلب من المستخدم ادخال قيمة للبحث عنها لاحقا وتخزينها في المتغير وتحويلها لنمط بيانات رقمي<b> \"guess\" </b> \n",
    " </div>"
   ]
  },
  {
   "cell_type": "code",
   "execution_count": 37,
   "metadata": {},
   "outputs": [],
   "source": [
    "guess = int(input(\"Enter your guess\"))"
   ]
  },
  {
   "cell_type": "markdown",
   "metadata": {},
   "source": [
    "<div class=\"alert alert-block alert-info\" style=\"direction: rtl;\">\n",
    "التحكم بالمصفوفة من خلال إنشاء دليل على أولها اسمه<b>\"low\"</b> وإنشاء دليل آخر يدل على نهايتها واسمه <b> \"high\" </b>\n",
    " <div style=\"text-align: center;\">\n",
    "  <img src=\"images\\image2.png\" style=\"transform: scale(0.5); margin: -55px -55px -80px -55px;\">\n",
    "</div>\n",
    " </div>\n"
   ]
  },
  {
   "cell_type": "code",
   "execution_count": null,
   "metadata": {},
   "outputs": [],
   "source": [
    "\n",
    "low = 0\n",
    "high = len(lst)-1\n",
    "\n",
    "# متغير لتحديد فيما اذا تم ايجاد القيمة المطلوبة أم لا \n",
    "flag = False\n",
    "\n",
    "# حلقة تكرار لاتتوقف الا بحال كان مؤشر الذيل تجاوز مؤشر الرأس\n",
    "while low <= high:\n",
    "    \n",
    "    # إنشاء دليل اضافي لكي يدل على منتصف المصفوفة\n",
    "    mid = (low + high) // 2\n",
    "\n",
    "    # بحال العثور على القيمة المطلوبة يتحقق شرط تساوي القيمة المطلوبة مع القيمة التي يدل عليها الدليل الموجود في منتصف المصفوفة\n",
    "    # True الى قيمة flag كما يتم تغيير حالة المتغير \n",
    "    if guess == lst[mid]:\n",
    "        flag = True\n",
    "        print(mid)\n",
    "        break\n",
    "    \n",
    "    # بحال كانت القيمة المطلوبة أقل من القيمة التي يدل عليها دليل المنتصف يتم تغيير دليل الراس ليكون في \n",
    "    #  منتصف المصفوفة مع إزاحة بمقدار خانة واحدة لليسار\n",
    "    elif guess < lst[mid]:\n",
    "        high = mid-1\n",
    "        \n",
    "    # بحال كانت القيمة المطلوبة أكبر من القيمة التي يدل عليها دليل المنتصف يتم تغيير دليل الراس ليكون في \n",
    "    #  منتصف المصفوفة مع إزاحة بمقدار خانة واحدة لليمين\n",
    "    else:\n",
    "        low = mid+1\n",
    "        \n",
    "# ويتم طباعة رسالة تفيد بعدم العثور على القيمة المطلوبة ضمن المصفوفة flag بحال لم يتم العثور على القيمة لاتتاثر قيمة المتغير\n",
    "if flag == False:\n",
    "    print(\"no results\")\n"
   ]
  },
  {
   "cell_type": "markdown",
   "metadata": {},
   "source": [
    "**Simple search:**\n",
    "- 100 ITEMS --> 100 Guesses\n",
    "- 4,000,000,000 ITEMS --> 4,000,000,000 Guesses\n",
    "\n",
    "**Binary search:**\n",
    "- 100 ITEMS --> 7 Guesses\n",
    "- 4,000,000,000 ITEMS --> 32 Guesses"
   ]
  },
  {
   "cell_type": "code",
   "execution_count": null,
   "metadata": {},
   "outputs": [],
   "source": []
  }
 ],
 "metadata": {
  "kernelspec": {
   "display_name": "base",
   "language": "python",
   "name": "python3"
  },
  "language_info": {
   "codemirror_mode": {
    "name": "ipython",
    "version": 3
   },
   "file_extension": ".py",
   "mimetype": "text/x-python",
   "name": "python",
   "nbconvert_exporter": "python",
   "pygments_lexer": "ipython3",
   "version": "3.11.7"
  }
 },
 "nbformat": 4,
 "nbformat_minor": 2
}
