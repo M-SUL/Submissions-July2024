{
 "cells": [
  {
   "cell_type": "markdown",
   "metadata": {},
   "source": [
    "**Temperature converter**\n",
    "\n",
    "Convert a temperature value from Celsius to Fahrenheit.\n",
    "I want my users to choose from the menu what they want\n",
    "to convert and they can exit the program normally like the\n",
    "following:\n",
    "\n",
    "Welcome to Temperature Converter!\n",
    "Please choose what you want to convert from the menu:\n",
    "1. Convert Celsius(‘C’) to Fahrenheit(‘F’)\n",
    "2. Convert Fahrenheit(‘F’) to Celsius(‘C’)\n",
    "3. Exit"
   ]
  },
  {
   "cell_type": "code",
   "execution_count": null,
   "metadata": {},
   "outputs": [],
   "source": [
    "# Write your Code Here"
   ]
  },
  {
   "cell_type": "markdown",
   "metadata": {},
   "source": [
    "**Palindrome Checker**\n",
    "\n",
    "I want my users to check if their input can be\n",
    "Palindromic (تناظري) like the following words:\n",
    "Level - radar.\n",
    "Or a whole phrase like:\n",
    "Was it a car or a cat I saw"
   ]
  },
  {
   "cell_type": "code",
   "execution_count": 18,
   "metadata": {},
   "outputs": [
    {
     "name": "stdout",
     "output_type": "stream",
     "text": [
      "wasitacaroracatisaw\n",
      "Done\n"
     ]
    }
   ],
   "source": [
    "# Write your Code Here\n",
    "inp = input().lower().replace(\" \",\"\")\n",
    "print(inp)\n",
    "reworld = \"\"\n",
    "\n",
    "for i in inp[::-1]:\n",
    "    reworld += reworld.join(i)\n",
    "if inp == reworld:\n",
    "    print(\"Done\")\n",
    "    "
   ]
  }
 ],
 "metadata": {
  "kernelspec": {
   "display_name": "base",
   "language": "python",
   "name": "python3"
  },
  "language_info": {
   "codemirror_mode": {
    "name": "ipython",
    "version": 3
   },
   "file_extension": ".py",
   "mimetype": "text/x-python",
   "name": "python",
   "nbconvert_exporter": "python",
   "pygments_lexer": "ipython3",
   "version": "3.11.7"
  }
 },
 "nbformat": 4,
 "nbformat_minor": 2
}
