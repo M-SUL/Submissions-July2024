{
 "cells": [
  {
   "cell_type": "markdown",
   "metadata": {},
   "source": [
    "### Q3: Python Knowledge Quiz"
   ]
  },
  {
   "cell_type": "markdown",
   "metadata": {},
   "source": [
    "**Q1: Using nested loops, write Python code to print the following pattern:**\n",
    "\n",
    "1\n",
    "\n",
    "1 2\n",
    "\n",
    "1 2 3 \n",
    "\n",
    "1 2 3 4"
   ]
  },
  {
   "cell_type": "code",
   "execution_count": null,
   "metadata": {},
   "outputs": [],
   "source": [
    "# Write your code here.."
   ]
  },
  {
   "cell_type": "markdown",
   "metadata": {
    "tags": [
     "parameters"
    ]
   },
   "source": [
    "**Q2: What is the result of the following Python code?**\n",
    "\n",
    "my_list = [1, 2, 3]\n",
    "\n",
    "new_list = my_list * 2"
   ]
  },
  {
   "cell_type": "markdown",
   "metadata": {},
   "source": [
    "Write here.."
   ]
  },
  {
   "cell_type": "markdown",
   "metadata": {},
   "source": [
    "**Which of the following is mutable?**\n",
    "<div>\n",
    "    <input type=\"radio\" id=\"q3a\" name=\"q3\" value=\"7\">\n",
    "    <label for=\"q3a\">a)  Int </label><br>\n",
    "    <input type=\"radio\" id=\"q3b\" name=\"q3\" value=\"7.0\">\n",
    "    <label for=\"q3b\">b)  List </label><br>\n",
    "    <input type=\"radio\" id=\"q3c\" name=\"q3\" value=\"5.0\">\n",
    "    <label for=\"q3c\">c)  Float </label><br>\n",
    "    <input type=\"radio\" id=\"q3d\" name=\"q3\" value=\"TypeError\">\n",
    "    <label for=\"q3d\">d)  str </label>\n",
    "</div>"
   ]
  },
  {
   "cell_type": "markdown",
   "metadata": {},
   "source": [
    "**Q4: What does the join() method in Python do?**\n"
   ]
  },
  {
   "cell_type": "markdown",
   "metadata": {},
   "source": [
    "Answer here.."
   ]
  },
  {
   "cell_type": "markdown",
   "metadata": {},
   "source": [
    "**Q5: Given a list my_list = [1, 2, 3], how can you add the number 4 to the end of the list?**"
   ]
  },
  {
   "cell_type": "markdown",
   "metadata": {},
   "source": [
    "Answer Here.."
   ]
  },
  {
   "cell_type": "markdown",
   "metadata": {},
   "source": [
    "**Q6: What is the output of the following code?**\n",
    "\n",
    "my_string = \"Python is fun\"\n",
    "\n",
    "result = my_string.split(\" \")\n",
    "\n",
    "<div>\n",
    "    <input type=\"radio\" id=\"q7a\" name=\"q7\" value=\"3.3333333333333335\">\n",
    "    <label for=\"q7a\">a)  [\"Python\", \"is\", \"fun\"] </label><br>\n",
    "    <input type=\"radio\" id=\"q7b\" name=\"q7\" value=\"3.333333333333333\">\n",
    "    <label for=\"q7b\">b)  \"Python is fun\" </label><br>\n",
    "    <input type=\"radio\" id=\"q7c\" name=\"q7\" value=\"3.0\">\n",
    "    <label for=\"q7c\">c)  (\"Python\", \"is\", \"fun\") </label><br>\n",
    "    <input type=\"radio\" id=\"q7d\" name=\"q7\" value=\"3\">\n",
    "    <label for=\"q7d\">d)  [\"Python\", \"Python\", \"Python\"] </label>\n",
    "</div>"
   ]
  },
  {
   "cell_type": "markdown",
   "metadata": {},
   "source": [
    "***\"Binary Search\"*** algorithm considered to be a great choice for many ***sorting problems*** especially when compared to ***\"Simple Search\"*** algorithm.\n",
    "\n",
    "Disscuse both algorithms and how \"Binary Search\" algorithm is more efficent for CPU execution time.\n",
    "\n",
    "**Write an essay for no less than 100 words**  "
   ]
  },
  {
   "cell_type": "markdown",
   "metadata": {},
   "source": [
    "write here.."
   ]
  }
 ],
 "metadata": {
  "language_info": {
   "name": "python"
  }
 },
 "nbformat": 4,
 "nbformat_minor": 2
}
