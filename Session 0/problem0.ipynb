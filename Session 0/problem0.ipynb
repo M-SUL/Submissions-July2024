{
 "cells": [
  {
   "cell_type": "markdown",
   "metadata": {},
   "source": [
    "**A. Vanya and Fence**\n",
    "\n",
    "Vanya and his friends are walking along the fence of height h and they do not want the guard to notice them. In order to achieve this the height of each of the friends should not exceed h. If the height of some person is greater than h he can bend down and then he surely won't be noticed by the guard. The height of the i-th person is equal to ai.\n",
    "\n",
    "Consider the width of the person walking as usual to be equal to 1, while the width of the bent person is equal to 2. Friends want to talk to each other while walking, so they would like to walk in a single row. What is the minimum width of the road, such that friends can walk in a row and remain unattended by the guard?\n",
    "\n",
    "Input\n",
    "The first line of the input contains two integers n and h (1 ≤ n ≤ 1000, 1 ≤ h ≤ 1000) — the number of friends and the height of the fence, respectively.\n",
    "\n",
    "The second line contains n integers ai (1 ≤ ai ≤ 2h), the i-th of them is equal to the height of the i-th person.\n",
    "\n",
    "Output\n",
    "Print a single integer — the minimum possible valid width of the road.\n",
    "\n",
    "\n",
    "Examples:\n",
    "***\n",
    "input\n",
    "3 7\n",
    "4 5 14\n",
    "\n",
    "output:\n",
    "4\n",
    "***\n",
    "input\n",
    "6 1\n",
    "1 1 1 1 1 1\n",
    "\n",
    "output:\n",
    "6\n",
    "***\n",
    "input\n",
    "6 5\n",
    "7 6 8 9 10 5\n",
    "\n",
    "output:\n",
    "11\n",
    "***"
   ]
  },
  {
   "cell_type": "code",
   "execution_count": null,
   "metadata": {},
   "outputs": [],
   "source": [
    "# Write Your Code Here.."
   ]
  }
 ],
 "metadata": {
  "language_info": {
   "name": "python"
  }
 },
 "nbformat": 4,
 "nbformat_minor": 2
}
